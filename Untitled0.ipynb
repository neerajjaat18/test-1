<!DOCTYPE html>
<html>
<head>
    <title>AI Logo Generator</title>
    <style>
        .container {
            max-width: 600px;
            margin: 20px auto;
            padding: 20px;
            text-align: center;
        }
        input, select, button {
            margin: 10px;
            padding: 8px;
            width: 80%;
        }
        #logo-preview {
            margin-top: 20px;
            border: 1px solid #ddd;
            padding: 10px;
        }
    </style>
</head>
<body>
    <div class="container">
        <h1>AI Logo Generator</h1>
        <input type="text" id="logo-text" placeholder="Describe your logo (e.g., 'A modern tech logo with a blue rocket')">
        <select id="style">
            <option>Minimalist</option>
            <option>Modern</option>
            <option>Vintage</option>
        </select>
        <button onclick="generateLogo()">Generate Logo</button>
        <div id="logo-preview"></div>
    </div>

    <script>
        // Placeholder function (connect to an AI API like YesChat/LogoAI later)
        function generateLogo() {
            const text = document.getElementById('logo-text').value;
            const style = document.getElementById('style').value;
            const preview = document.getElementById('logo-preview');
            
            preview.innerHTML = `<p>Generating a ${style} logo: "${text}"...</p>`;
            // Replace this with API call to an AI logo generator
        }
    </script>
</body>
</html>
